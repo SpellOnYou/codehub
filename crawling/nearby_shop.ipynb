{
 "cells": [
  {
   "cell_type": "markdown",
   "metadata": {
    "colab_type": "text",
    "id": "WuCAV_AMseVo"
   },
   "source": [
    "target site : https://www.nearbuy.co.kr/"
   ]
  },
  {
   "cell_type": "code",
   "execution_count": null,
   "metadata": {
    "colab": {},
    "colab_type": "code",
    "id": "VDmITiQ7sTWf"
   },
   "outputs": [],
   "source": [
    "import requests\n",
    "from bs4 import BeautifulSoup\n",
    "from urllib.parse import urljoin\n",
    "from itertools import count\n",
    "import pandas as pd\n",
    "import re\n",
    "from collections import OrderedDict"
   ]
  },
  {
   "cell_type": "code",
   "execution_count": null,
   "metadata": {
    "colab": {},
    "colab_type": "code",
    "id": "REGK8aB3sQle"
   },
   "outputs": [],
   "source": [
    "def product_list(code=\"여성의류\", category=\"드레스\"):\n",
    "    base_url = \"https://www.nearbuy.co.kr/\"\n",
    "    url = urljoin(base_url, \"products_best\")\n",
    "    product_dict=OrderedDict()\n",
    "    \n",
    "    for page in count(1):\n",
    "        params = {\n",
    "            'sort':'NEW',\n",
    "            'item_category':category.encode(),\n",
    "            'shop_style_code':code.encode(),\n",
    "            'page':page\n",
    "        }\n",
    "        print(f\"I'm trying {page} page\")\n",
    "        \n",
    "        html = requests.get(url, params=params).text\n",
    "        soup = BeautifulSoup(html, 'html.parser')\n",
    "\n",
    "        if soup.select(\".row .empty_data\"):\n",
    "            print(f\"Page maximum, {page-1} is the last page in this category\")\n",
    "            return product_dict\n",
    "\n",
    "        for idx, tag in enumerate(soup.select(\".row #productsUl a[href]\")):            \n",
    "            \n",
    "            product_url = urljoin(base_url, tag['href'])\n",
    "            # img_url\n",
    "            img_tag = tag.find(class_='item_thumbnail')['style'];\n",
    "            pattern = 'background: url\\((https://.*)\\) center'\n",
    "            url_search = re.search(pattern, img_tag, re.IGNORECASE)\n",
    "            if url_search: img_url = url_search.group(1)\n",
    "\n",
    "            brand = tag.find(class_='store_name').text; brand=brand.split()[0]\n",
    "            name = tag.find(class_='product_name').text;\n",
    "            serial_number = tag['href'].split(\"/\")[-1];\n",
    "            price_lst = tag.find(class_='price_wrap').text.split(); price=\" \".join(price_lst)\n",
    "\n",
    "            #color&size\n",
    "            prd_html = requests.get(product_url).text\n",
    "            prd_soup = BeautifulSoup(prd_html, 'html.parser')\n",
    " \n",
    "            tag_set = prd_soup.select('ul[class=\"essential dropeddown dnone\"]')\n",
    "            size_n_col = {value.select('li[data-option-name]')[0]['data-option-name']: \" \".join(value.text.split()) for value in tag_set}\n",
    "            print(size_n_col.keys())           \n",
    "                        \n",
    "            product = {\n",
    "                'brand_name':brand,\n",
    "                'product_name':name,\n",
    "                'serial_number':serial_number,\n",
    "                'price':price,\n",
    "                'size and color':size_n_col,\n",
    "                # 'color':color,\n",
    "                'img_url':img_url,\n",
    "                'product_url':product_url,\n",
    "            }\n",
    "            \n",
    "            product_dict[product_url]=product\n",
    "            print(product,\"\\n\")\n",
    "\n",
    "    return product_dict"
   ]
  },
  {
   "cell_type": "code",
   "execution_count": null,
   "metadata": {
    "colab": {},
    "colab_type": "code",
    "id": "3Z06DlRysZpa"
   },
   "outputs": [],
   "source": [
    "skirt_dict = product_list(category=\"스커트\") #142-143 pagination stop, skirt, women"
   ]
  },
  {
   "cell_type": "markdown",
   "metadata": {
    "colab_type": "text",
    "id": "7-_hAZh2s023"
   },
   "source": [
    "There was a question of enviroment.\n",
    "\n",
    "Since I implemented most of codes in Google Colab, you can show it using command `pip freeze`"
   ]
  },
  {
   "cell_type": "code",
   "execution_count": null,
   "metadata": {
    "colab": {
     "base_uri": "https://localhost:8080/",
     "height": 1000
    },
    "colab_type": "code",
    "id": "l68vdm4BtFXh",
    "outputId": "f33bfbe3-20dd-44da-da6e-14f3e0c8eed6"
   },
   "outputs": [],
   "source": [
    "!pip freeze"
   ]
  },
  {
   "cell_type": "code",
   "execution_count": null,
   "metadata": {
    "colab": {},
    "colab_type": "code",
    "id": "mqcvE4ROtHBL"
   },
   "outputs": [],
   "source": []
  }
 ],
 "metadata": {
  "colab": {
   "name": "nearby-shop.ipynb",
   "provenance": []
  },
  "kernelspec": {
   "display_name": "Python 3",
   "language": "python",
   "name": "python3"
  },
  "language_info": {
   "codemirror_mode": {
    "name": "ipython",
    "version": 3
   },
   "file_extension": ".py",
   "mimetype": "text/x-python",
   "name": "python",
   "nbconvert_exporter": "python",
   "pygments_lexer": "ipython3",
   "version": "3.6.0"
  }
 },
 "nbformat": 4,
 "nbformat_minor": 1
}
